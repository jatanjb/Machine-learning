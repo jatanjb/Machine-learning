{
 "cells": [
  {
   "cell_type": "code",
   "execution_count": 111,
   "metadata": {
    "collapsed": true
   },
   "outputs": [],
   "source": [
    "import matplotlib.pyplot as py\n",
    "import seaborn as sb\n",
    "import numpy as np\n",
    "import pandas as pd\n",
    "%matplotlib inline"
   ]
  },
  {
   "cell_type": "code",
   "execution_count": 112,
   "metadata": {
    "collapsed": true
   },
   "outputs": [],
   "source": [
    "df = pd.read_excel(\"C:\\Users\\JATAN\\PycharmProjects\\project1\\All_IPL_Match_Scores_Easy.xlsx\")"
   ]
  },
  {
   "cell_type": "code",
   "execution_count": 113,
   "metadata": {},
   "outputs": [
    {
     "data": {
      "text/html": [
       "<div>\n",
       "<style>\n",
       "    .dataframe thead tr:only-child th {\n",
       "        text-align: right;\n",
       "    }\n",
       "\n",
       "    .dataframe thead th {\n",
       "        text-align: left;\n",
       "    }\n",
       "\n",
       "    .dataframe tbody tr th {\n",
       "        vertical-align: top;\n",
       "    }\n",
       "</style>\n",
       "<table border=\"1\" class=\"dataframe\">\n",
       "  <thead>\n",
       "    <tr style=\"text-align: right;\">\n",
       "      <th></th>\n",
       "      <th>Match_Number</th>\n",
       "      <th>Match</th>\n",
       "      <th>Date</th>\n",
       "      <th>Year</th>\n",
       "      <th>Venue</th>\n",
       "      <th>Team_Batting_First</th>\n",
       "      <th>Team_Batting_Second</th>\n",
       "      <th>Bat_First_Runs_Scored</th>\n",
       "      <th>Bat_First_Wickets_Lost</th>\n",
       "      <th>Bat_First_Overs_Consumed</th>\n",
       "      <th>...</th>\n",
       "      <th>Bat_Second_10_ov_score</th>\n",
       "      <th>Bat_Second_10_ov_wkts_lost</th>\n",
       "      <th>Bat_Second_10_ov_Req_RR</th>\n",
       "      <th>Bat_Second_15_ov_score</th>\n",
       "      <th>Bat_Second_15_ov_wkts_lost</th>\n",
       "      <th>Bat_Second_15_ov_Req_RR</th>\n",
       "      <th>Bat_Second_20_ov_score</th>\n",
       "      <th>Bat_Second_20_ov_wkts_lost</th>\n",
       "      <th>Match_Time</th>\n",
       "      <th>Duckworth Lewis Used</th>\n",
       "    </tr>\n",
       "  </thead>\n",
       "  <tbody>\n",
       "    <tr>\n",
       "      <th>0</th>\n",
       "      <td>1</td>\n",
       "      <td>League Match</td>\n",
       "      <td>Apr 18</td>\n",
       "      <td>2008</td>\n",
       "      <td>Bangalore</td>\n",
       "      <td>Kolkata</td>\n",
       "      <td>Bangalore</td>\n",
       "      <td>222</td>\n",
       "      <td>3</td>\n",
       "      <td>20.0</td>\n",
       "      <td>...</td>\n",
       "      <td>51.0</td>\n",
       "      <td>7.0</td>\n",
       "      <td>17.2</td>\n",
       "      <td>81.0</td>\n",
       "      <td>9.0</td>\n",
       "      <td>28.4</td>\n",
       "      <td>NaN</td>\n",
       "      <td>NaN</td>\n",
       "      <td>Evening</td>\n",
       "      <td>NaN</td>\n",
       "    </tr>\n",
       "    <tr>\n",
       "      <th>1</th>\n",
       "      <td>2</td>\n",
       "      <td>League Match</td>\n",
       "      <td>Apr 19</td>\n",
       "      <td>2008</td>\n",
       "      <td>Mohali</td>\n",
       "      <td>Chennai</td>\n",
       "      <td>Punjab</td>\n",
       "      <td>240</td>\n",
       "      <td>5</td>\n",
       "      <td>20.0</td>\n",
       "      <td>...</td>\n",
       "      <td>110.0</td>\n",
       "      <td>1.0</td>\n",
       "      <td>13.1</td>\n",
       "      <td>165.0</td>\n",
       "      <td>3.0</td>\n",
       "      <td>15.2</td>\n",
       "      <td>207.0</td>\n",
       "      <td>4.0</td>\n",
       "      <td>Afternoon</td>\n",
       "      <td>NaN</td>\n",
       "    </tr>\n",
       "    <tr>\n",
       "      <th>2</th>\n",
       "      <td>3</td>\n",
       "      <td>League Match</td>\n",
       "      <td>Apr 19</td>\n",
       "      <td>2008</td>\n",
       "      <td>Delhi</td>\n",
       "      <td>Rajasthan</td>\n",
       "      <td>Delhi</td>\n",
       "      <td>129</td>\n",
       "      <td>8</td>\n",
       "      <td>20.0</td>\n",
       "      <td>...</td>\n",
       "      <td>86.0</td>\n",
       "      <td>1.0</td>\n",
       "      <td>4.4</td>\n",
       "      <td>128.0</td>\n",
       "      <td>1.0</td>\n",
       "      <td>0.4</td>\n",
       "      <td>NaN</td>\n",
       "      <td>NaN</td>\n",
       "      <td>Evening</td>\n",
       "      <td>NaN</td>\n",
       "    </tr>\n",
       "    <tr>\n",
       "      <th>3</th>\n",
       "      <td>4</td>\n",
       "      <td>League Match</td>\n",
       "      <td>Apr 20</td>\n",
       "      <td>2008</td>\n",
       "      <td>Kolkata</td>\n",
       "      <td>Hyderabad</td>\n",
       "      <td>Kolkata</td>\n",
       "      <td>110</td>\n",
       "      <td>10</td>\n",
       "      <td>18.4</td>\n",
       "      <td>...</td>\n",
       "      <td>38.0</td>\n",
       "      <td>3.0</td>\n",
       "      <td>7.3</td>\n",
       "      <td>81.0</td>\n",
       "      <td>4.0</td>\n",
       "      <td>6.0</td>\n",
       "      <td>NaN</td>\n",
       "      <td>NaN</td>\n",
       "      <td>Afternoon</td>\n",
       "      <td>NaN</td>\n",
       "    </tr>\n",
       "    <tr>\n",
       "      <th>4</th>\n",
       "      <td>5</td>\n",
       "      <td>League Match</td>\n",
       "      <td>Apr 20</td>\n",
       "      <td>2008</td>\n",
       "      <td>Mumbai</td>\n",
       "      <td>Mumbai</td>\n",
       "      <td>Bangalore</td>\n",
       "      <td>165</td>\n",
       "      <td>6</td>\n",
       "      <td>20.0</td>\n",
       "      <td>...</td>\n",
       "      <td>76.0</td>\n",
       "      <td>3.0</td>\n",
       "      <td>9.0</td>\n",
       "      <td>118.0</td>\n",
       "      <td>4.0</td>\n",
       "      <td>9.6</td>\n",
       "      <td>166.0</td>\n",
       "      <td>5.0</td>\n",
       "      <td>Evening</td>\n",
       "      <td>NaN</td>\n",
       "    </tr>\n",
       "  </tbody>\n",
       "</table>\n",
       "<p>5 rows × 43 columns</p>\n",
       "</div>"
      ],
      "text/plain": [
       "   Match_Number         Match    Date  Year      Venue Team_Batting_First  \\\n",
       "0             1  League Match  Apr 18  2008  Bangalore            Kolkata   \n",
       "1             2  League Match  Apr 19  2008     Mohali            Chennai   \n",
       "2             3  League Match  Apr 19  2008      Delhi          Rajasthan   \n",
       "3             4  League Match  Apr 20  2008    Kolkata          Hyderabad   \n",
       "4             5  League Match  Apr 20  2008     Mumbai             Mumbai   \n",
       "\n",
       "  Team_Batting_Second  Bat_First_Runs_Scored  Bat_First_Wickets_Lost  \\\n",
       "0           Bangalore                    222                       3   \n",
       "1              Punjab                    240                       5   \n",
       "2               Delhi                    129                       8   \n",
       "3             Kolkata                    110                      10   \n",
       "4           Bangalore                    165                       6   \n",
       "\n",
       "   Bat_First_Overs_Consumed          ...           Bat_Second_10_ov_score  \\\n",
       "0                      20.0          ...                             51.0   \n",
       "1                      20.0          ...                            110.0   \n",
       "2                      20.0          ...                             86.0   \n",
       "3                      18.4          ...                             38.0   \n",
       "4                      20.0          ...                             76.0   \n",
       "\n",
       "   Bat_Second_10_ov_wkts_lost  Bat_Second_10_ov_Req_RR  \\\n",
       "0                         7.0                     17.2   \n",
       "1                         1.0                     13.1   \n",
       "2                         1.0                      4.4   \n",
       "3                         3.0                      7.3   \n",
       "4                         3.0                      9.0   \n",
       "\n",
       "   Bat_Second_15_ov_score  Bat_Second_15_ov_wkts_lost Bat_Second_15_ov_Req_RR  \\\n",
       "0                    81.0                         9.0                    28.4   \n",
       "1                   165.0                         3.0                    15.2   \n",
       "2                   128.0                         1.0                     0.4   \n",
       "3                    81.0                         4.0                     6.0   \n",
       "4                   118.0                         4.0                     9.6   \n",
       "\n",
       "  Bat_Second_20_ov_score  Bat_Second_20_ov_wkts_lost Match_Time  \\\n",
       "0                    NaN                         NaN    Evening   \n",
       "1                  207.0                         4.0  Afternoon   \n",
       "2                    NaN                         NaN    Evening   \n",
       "3                    NaN                         NaN  Afternoon   \n",
       "4                  166.0                         5.0    Evening   \n",
       "\n",
       "   Duckworth Lewis Used  \n",
       "0                   NaN  \n",
       "1                   NaN  \n",
       "2                   NaN  \n",
       "3                   NaN  \n",
       "4                   NaN  \n",
       "\n",
       "[5 rows x 43 columns]"
      ]
     },
     "execution_count": 113,
     "metadata": {},
     "output_type": "execute_result"
    }
   ],
   "source": [
    "df.head()"
   ]
  },
  {
   "cell_type": "code",
   "execution_count": 114,
   "metadata": {
    "collapsed": true
   },
   "outputs": [],
   "source": [
    "X = df[['Bat_First_5_ov_score','Bat_First_5_ov_wkts_lost','Bat_First_Run_Rate']]\n",
    "Y = df[['Bat_First_Runs_Scored']]"
   ]
  },
  {
   "cell_type": "code",
   "execution_count": 115,
   "metadata": {
    "collapsed": true
   },
   "outputs": [],
   "source": [
    "from sklearn.model_selection import train_test_split\n",
    "from sklearn.linear_model import LinearRegression\n",
    "X_train, X_test , y_train , y_test = train_test_split(X,Y,test_size=0.25,random_state=26)"
   ]
  },
  {
   "cell_type": "code",
   "execution_count": 116,
   "metadata": {},
   "outputs": [
    {
     "data": {
      "text/plain": [
       "LinearRegression(copy_X=True, fit_intercept=True, n_jobs=1, normalize=True)"
      ]
     },
     "execution_count": 116,
     "metadata": {},
     "output_type": "execute_result"
    }
   ],
   "source": [
    "model = LinearRegression(normalize=True)\n",
    "model.fit(X_train, y_train)"
   ]
  },
  {
   "cell_type": "code",
   "execution_count": 117,
   "metadata": {
    "collapsed": true
   },
   "outputs": [],
   "source": [
    "predictions=model.predict(X_test)"
   ]
  },
  {
   "cell_type": "code",
   "execution_count": 118,
   "metadata": {},
   "outputs": [
    {
     "data": {
      "text/plain": [
       "<matplotlib.axes._subplots.AxesSubplot at 0xf192780>"
      ]
     },
     "execution_count": 118,
     "metadata": {},
     "output_type": "execute_result"
    },
    {
     "data": {
      "image/png": "[encoded data removed]",
      "text/plain": [
       "<matplotlib.figure.Figure at 0xf069940>"
      ]
     },
     "metadata": {},
     "output_type": "display_data"
    }
   ],
   "source": [
    "sb.distplot(y_test-predictions)"
   ]
  },
  {
   "cell_type": "code",
   "execution_count": 119,
   "metadata": {},
   "outputs": [
    {
     "data": {
      "text/plain": [
       "array([[ 146.79026885]])"
      ]
     },
     "execution_count": 119,
     "metadata": {},
     "output_type": "execute_result"
    }
   ],
   "source": [
    "myvals = np.array([38,1,7.40]).reshape(1,-1)\n",
    "model.predict(myvals)"
   ]
  },
  {
   "cell_type": "code",
   "execution_count": 120,
   "metadata": {},
   "outputs": [
    {
     "data": {
      "text/plain": [
       "array([[ 198.56504662]])"
      ]
     },
     "execution_count": 120,
     "metadata": {},
     "output_type": "execute_result"
    }
   ],
   "source": [
    "myvals = np.array([33,1,10.20]).reshape(1,-1)\n",
    "model.predict(myvals)"
   ]
  },
  {
   "cell_type": "code",
   "execution_count": null,
   "metadata": {
    "collapsed": true
   },
   "outputs": [],
   "source": []
  },
  {
   "cell_type": "code",
   "execution_count": null,
   "metadata": {
    "collapsed": true
   },
   "outputs": [],
   "source": []
  },
  {
   "cell_type": "code",
   "execution_count": null,
   "metadata": {},
   "outputs": [],
   "source": []
  },
  {
   "cell_type": "code",
   "execution_count": null,
   "metadata": {
    "collapsed": true
   },
   "outputs": [],
   "source": []
  },
  {
   "cell_type": "code",
   "execution_count": null,
   "metadata": {
    "collapsed": true
   },
   "outputs": [],
   "source": []
  }
 ],
 "metadata": {
  "kernelspec": {
   "display_name": "Python 2",
   "language": "python",
   "name": "python2"
  },
  "language_info": {
   "codemirror_mode": {
    "name": "ipython",
    "version": 2
   },
   "file_extension": ".py",
   "mimetype": "text/x-python",
   "name": "python",
   "nbconvert_exporter": "python",
   "pygments_lexer": "ipython2",
   "version": "2.7.13"
  }
 },
 "nbformat": 4,
 "nbformat_minor": 2
}
