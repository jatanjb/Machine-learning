{
 "cells": [
  {
   "cell_type": "code",
   "execution_count": 11,
   "metadata": {},
   "outputs": [],
   "source": [
    "import statsmodels.api as sm\n",
    "import numpy as np \n",
    "import pandas as pd\n",
    "from sklearn import datasets ## imports datasets from scikit-learn \n",
    "df = pd.read_excel(\"C:\\Users\\JATAN\\PycharmProjects\\project1\\All_IPL_Match_Scores_Easy.xlsx\")"
   ]
  },
  {
   "cell_type": "code",
   "execution_count": 15,
   "metadata": {
    "collapsed": true
   },
   "outputs": [],
   "source": [
    "X = df[['Bat_First_5_ov_score','Bat_First_5_ov_wkts_lost']]\n",
    "y = df[['Bat_First_Runs_Scored']]\n",
    "model = sm.OLS(y, X).fit() "
   ]
  },
  {
   "cell_type": "code",
   "execution_count": 16,
   "metadata": {
    "collapsed": true
   },
   "outputs": [],
   "source": [
    "predictions = model.predict(X) "
   ]
  },
  {
   "cell_type": "code",
   "execution_count": 17,
   "metadata": {},
   "outputs": [
    {
     "name": "stdout",
     "output_type": "stream",
     "text": [
      "                              OLS Regression Results                             \n",
      "=================================================================================\n",
      "Dep. Variable:     Bat_First_Runs_Scored   R-squared:                       0.949\n",
      "Model:                               OLS   Adj. R-squared:                  0.948\n",
      "Method:                    Least Squares   F-statistic:                     4725.\n",
      "Date:                   Fri, 08 Jun 2018   Prob (F-statistic):               0.00\n",
      "Time:                           10:02:33   Log-Likelihood:                -2579.8\n",
      "No. Observations:                    514   AIC:                             5164.\n",
      "Df Residuals:                        512   BIC:                             5172.\n",
      "Df Model:                              2                                         \n",
      "Covariance Type:               nonrobust                                         \n",
      "============================================================================================\n",
      "                               coef    std err          t      P>|t|      [0.025      0.975]\n",
      "--------------------------------------------------------------------------------------------\n",
      "Bat_First_5_ov_score         3.9473      0.058     68.439      0.000       3.834       4.061\n",
      "Bat_First_5_ov_wkts_lost    10.7224      1.425      7.523      0.000       7.922      13.522\n",
      "==============================================================================\n",
      "Omnibus:                       31.076   Durbin-Watson:                   1.822\n",
      "Prob(Omnibus):                  0.000   Jarque-Bera (JB):               47.557\n",
      "Skew:                          -0.453   Prob(JB):                     4.71e-11\n",
      "Kurtosis:                       4.183   Cond. No.                         32.7\n",
      "==============================================================================\n",
      "\n",
      "Warnings:\n",
      "[1] Standard Errors assume that the covariance matrix of the errors is correctly specified.\n"
     ]
    }
   ],
   "source": [
    "print model.summary()"
   ]
  },
  {
   "cell_type": "code",
   "execution_count": null,
   "metadata": {
    "collapsed": true
   },
   "outputs": [],
   "source": []
  }
 ],
 "metadata": {
  "kernelspec": {
   "display_name": "Python 2",
   "language": "python",
   "name": "python2"
  },
  "language_info": {
   "codemirror_mode": {
    "name": "ipython",
    "version": 2
   },
   "file_extension": ".py",
   "mimetype": "text/x-python",
   "name": "python",
   "nbconvert_exporter": "python",
   "pygments_lexer": "ipython2",
   "version": "2.7.13"
  }
 },
 "nbformat": 4,
 "nbformat_minor": 2
}
